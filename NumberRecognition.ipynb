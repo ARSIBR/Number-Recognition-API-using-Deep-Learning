{
 "cells": [
  {
   "cell_type": "code",
   "execution_count": 2,
   "id": "3c478673",
   "metadata": {},
   "outputs": [],
   "source": [
    "import tensorflow as tf\n",
    "import tensorflow_datasets as tfds\n",
    "import numpy as np\n",
    "import matplotlib.pyplot as plt\n",
    "from tensorflow.keras import layers"
   ]
  },
  {
   "cell_type": "code",
   "execution_count": 3,
   "id": "3f72ff97",
   "metadata": {},
   "outputs": [
    {
     "name": "stdout",
     "output_type": "stream",
     "text": [
      "Training dataset info:\n",
      "Image shape: (28, 28, 1)\n",
      "Label: 4\n",
      "Test dataset info:\n",
      "Image shape: (28, 28, 1)\n",
      "Label: 2\n"
     ]
    },
    {
     "name": "stderr",
     "output_type": "stream",
     "text": [
      "2025-05-06 14:19:39.376829: I tensorflow/core/kernels/data/tf_record_dataset_op.cc:387] The default buffer size is 262144, which is overridden by the user specified `buffer_size` of 8388608\n",
      "2025-05-06 14:19:39.381713: W tensorflow/core/kernels/data/cache_dataset_ops.cc:916] The calling iterator did not fully read the dataset being cached. In order to avoid unexpected truncation of the dataset, the partially cached contents of the dataset  will be discarded. This can happen if you have an input pipeline similar to `dataset.cache().take(k).repeat()`. You should use `dataset.take(k).cache().repeat()` instead.\n",
      "2025-05-06 14:19:39.382271: I tensorflow/core/framework/local_rendezvous.cc:407] Local rendezvous is aborting with status: OUT_OF_RANGE: End of sequence\n",
      "2025-05-06 14:19:39.401313: W tensorflow/core/kernels/data/cache_dataset_ops.cc:916] The calling iterator did not fully read the dataset being cached. In order to avoid unexpected truncation of the dataset, the partially cached contents of the dataset  will be discarded. This can happen if you have an input pipeline similar to `dataset.cache().take(k).repeat()`. You should use `dataset.take(k).cache().repeat()` instead.\n",
      "2025-05-06 14:19:39.401582: I tensorflow/core/framework/local_rendezvous.cc:407] Local rendezvous is aborting with status: OUT_OF_RANGE: End of sequence\n"
     ]
    }
   ],
   "source": [
    "ds_train, ds_test = tfds.load('mnist', split=['train', 'test'], as_supervised=True)\n",
    "\n",
    "\n",
    "print(\"Training dataset info:\")\n",
    "for image, label in ds_train.take(1):\n",
    "    print(\"Image shape:\", image.shape)\n",
    "    print(\"Label:\", label.numpy())\n",
    "print(\"Test dataset info:\")\n",
    "for image, label in ds_test.take(1):\n",
    "    print(\"Image shape:\", image.shape)\n",
    "    print(\"Label:\", label.numpy())\n",
    "\n",
    "\n",
    "train_count = tf.data.experimental.cardinality(ds_train).numpy()\n",
    "test_count = tf.data.experimental.cardinality(ds_test).numpy()"
   ]
  },
  {
   "cell_type": "code",
   "execution_count": 4,
   "id": "3623236a",
   "metadata": {},
   "outputs": [
    {
     "name": "stdout",
     "output_type": "stream",
     "text": [
      "Sample batch shapes:\n",
      "X_train_sample shape: (32, 28, 28, 1)\n",
      "y_train_sample shape: (32,)\n"
     ]
    },
    {
     "name": "stderr",
     "output_type": "stream",
     "text": [
      "2025-05-06 14:19:39.455204: W tensorflow/core/kernels/data/cache_dataset_ops.cc:916] The calling iterator did not fully read the dataset being cached. In order to avoid unexpected truncation of the dataset, the partially cached contents of the dataset  will be discarded. This can happen if you have an input pipeline similar to `dataset.cache().take(k).repeat()`. You should use `dataset.take(k).cache().repeat()` instead.\n"
     ]
    }
   ],
   "source": [
    "def preprocess(image, label):\n",
    "    image = tf.cast(image, tf.float32) / 255.0\n",
    "    # Ensure label is int32\n",
    "    label = tf.cast(label, tf.int32)\n",
    "    return image, label\n",
    "\n",
    "\n",
    "BATCH_SIZE = 32\n",
    "ds_train = ds_train.map(preprocess).batch(BATCH_SIZE).prefetch(tf.data.AUTOTUNE)\n",
    "ds_test = ds_test.map(preprocess).batch(BATCH_SIZE).prefetch(tf.data.AUTOTUNE)\n",
    "\n",
    "\n",
    "for image_batch, label_batch in ds_train.take(1):\n",
    "    X_train_sample = image_batch.numpy()\n",
    "    y_train_sample = label_batch.numpy()\n",
    "print(\"Sample batch shapes:\")\n",
    "print(\"X_train_sample shape:\", X_train_sample.shape)\n",
    "print(\"y_train_sample shape:\", y_train_sample.shape)"
   ]
  },
  {
   "cell_type": "code",
   "execution_count": 5,
   "id": "d0a2400e",
   "metadata": {},
   "outputs": [
    {
     "data": {
      "image/png": "[encoded data removed]",
      "text/plain": [
       "<Figure size 640x480 with 1 Axes>"
      ]
     },
     "metadata": {},
     "output_type": "display_data"
    }
   ],
   "source": [
    "plt.imshow(X_train_sample[0].reshape(28, 28), cmap='gray')\n",
    "plt.title(f'Label: {y_train_sample[0]}')\n",
    "plt.show()\n",
    "plt.close()"
   ]
  },
  {
   "cell_type": "code",
   "execution_count": 6,
   "id": "dc78d0c7",
   "metadata": {},
   "outputs": [
    {
     "name": "stdout",
     "output_type": "stream",
     "text": [
      "Epoch 1/10\n"
     ]
    },
    {
     "name": "stderr",
     "output_type": "stream",
     "text": [
      "/Users/netsmartz/Downloads/Number Recognition/venv/lib/python3.12/site-packages/keras/src/layers/convolutional/base_conv.py:107: UserWarning: Do not pass an `input_shape`/`input_dim` argument to a layer. When using Sequential models, prefer using an `Input(shape)` object as the first layer in the model instead.\n",
      "  super().__init__(activity_regularizer=activity_regularizer, **kwargs)\n"
     ]
    },
    {
     "name": "stdout",
     "output_type": "stream",
     "text": [
      "\u001b[1m1875/1875\u001b[0m \u001b[32m━━━━━━━━━━━━━━━━━━━━\u001b[0m\u001b[37m\u001b[0m \u001b[1m14s\u001b[0m 7ms/step - accuracy: 0.9119 - loss: 0.2876 - val_accuracy: 0.9846 - val_loss: 0.0502\n",
      "Epoch 2/10\n",
      "\u001b[1m1875/1875\u001b[0m \u001b[32m━━━━━━━━━━━━━━━━━━━━\u001b[0m\u001b[37m\u001b[0m \u001b[1m15s\u001b[0m 8ms/step - accuracy: 0.9858 - loss: 0.0484 - val_accuracy: 0.9880 - val_loss: 0.0380\n",
      "Epoch 3/10\n",
      "\u001b[1m1875/1875\u001b[0m \u001b[32m━━━━━━━━━━━━━━━━━━━━\u001b[0m\u001b[37m\u001b[0m \u001b[1m16s\u001b[0m 8ms/step - accuracy: 0.9912 - loss: 0.0310 - val_accuracy: 0.9877 - val_loss: 0.0380\n",
      "Epoch 4/10\n",
      "\u001b[1m1875/1875\u001b[0m \u001b[32m━━━━━━━━━━━━━━━━━━━━\u001b[0m\u001b[37m\u001b[0m \u001b[1m16s\u001b[0m 9ms/step - accuracy: 0.9931 - loss: 0.0215 - val_accuracy: 0.9887 - val_loss: 0.0380\n",
      "Epoch 5/10\n",
      "\u001b[1m1875/1875\u001b[0m \u001b[32m━━━━━━━━━━━━━━━━━━━━\u001b[0m\u001b[37m\u001b[0m \u001b[1m16s\u001b[0m 9ms/step - accuracy: 0.9951 - loss: 0.0175 - val_accuracy: 0.9881 - val_loss: 0.0403\n",
      "Epoch 6/10\n",
      "\u001b[1m1875/1875\u001b[0m \u001b[32m━━━━━━━━━━━━━━━━━━━━\u001b[0m\u001b[37m\u001b[0m \u001b[1m16s\u001b[0m 9ms/step - accuracy: 0.9964 - loss: 0.0134 - val_accuracy: 0.9854 - val_loss: 0.0621\n",
      "Epoch 7/10\n",
      "\u001b[1m1875/1875\u001b[0m \u001b[32m━━━━━━━━━━━━━━━━━━━━\u001b[0m\u001b[37m\u001b[0m \u001b[1m16s\u001b[0m 9ms/step - accuracy: 0.9964 - loss: 0.0131 - val_accuracy: 0.9886 - val_loss: 0.0487\n",
      "Epoch 8/10\n",
      "\u001b[1m1875/1875\u001b[0m \u001b[32m━━━━━━━━━━━━━━━━━━━━\u001b[0m\u001b[37m\u001b[0m \u001b[1m16s\u001b[0m 9ms/step - accuracy: 0.9967 - loss: 0.0091 - val_accuracy: 0.9879 - val_loss: 0.0570\n",
      "Epoch 9/10\n",
      "\u001b[1m1875/1875\u001b[0m \u001b[32m━━━━━━━━━━━━━━━━━━━━\u001b[0m\u001b[37m\u001b[0m \u001b[1m16s\u001b[0m 9ms/step - accuracy: 0.9974 - loss: 0.0075 - val_accuracy: 0.9903 - val_loss: 0.0423\n",
      "Epoch 10/10\n",
      "\u001b[1m1875/1875\u001b[0m \u001b[32m━━━━━━━━━━━━━━━━━━━━\u001b[0m\u001b[37m\u001b[0m \u001b[1m16s\u001b[0m 8ms/step - accuracy: 0.9981 - loss: 0.0065 - val_accuracy: 0.9905 - val_loss: 0.0390\n"
     ]
    }
   ],
   "source": [
    "model = tf.keras.Sequential([\n",
    "    layers.Conv2D(32, (3,3), activation='relu', input_shape=(28,28,1)),\n",
    "    layers.MaxPooling2D((2,2)),\n",
    "    layers.Conv2D(64, (3,3), activation='relu'),\n",
    "    layers.MaxPooling2D((2,2)),\n",
    "    layers.Flatten(),\n",
    "    layers.Dense(128, activation='relu'),\n",
    "    layers.Dense(10, activation='softmax')\n",
    "])\n",
    "\n",
    "model.compile(optimizer='adam',\n",
    "              loss='sparse_categorical_crossentropy',\n",
    "              metrics=['accuracy'])\n",
    "\n",
    "\n",
    "history = model.fit(ds_train, epochs=10, validation_data=ds_test)"
   ]
  },
  {
   "cell_type": "code",
   "execution_count": 7,
   "id": "d4a9ca93",
   "metadata": {},
   "outputs": [
    {
     "data": {
      "image/png": "[encoded data removed]",
      "text/plain": [
       "<Figure size 640x480 with 1 Axes>"
      ]
     },
     "metadata": {},
     "output_type": "display_data"
    }
   ],
   "source": [
    "# Plot training history\n",
    "plt.plot(history.history['accuracy'], label='accuracy')\n",
    "plt.plot(history.history['val_accuracy'], label='val_accuracy')\n",
    "plt.xlabel('Epoch')\n",
    "plt.ylabel('Accuracy')\n",
    "plt.legend()\n",
    "plt.show()\n",
    "plt.close()"
   ]
  },
  {
   "cell_type": "code",
   "execution_count": 8,
   "id": "4b9ca864",
   "metadata": {},
   "outputs": [
    {
     "name": "stdout",
     "output_type": "stream",
     "text": [
      "\u001b[1m313/313\u001b[0m \u001b[32m━━━━━━━━━━━━━━━━━━━━\u001b[0m\u001b[37m\u001b[0m \u001b[1m1s\u001b[0m 3ms/step - accuracy: 0.9909 - loss: 0.0335\n",
      "Test accuracy: 0.9904999732971191\n",
      "\u001b[1m1875/1875\u001b[0m \u001b[32m━━━━━━━━━━━━━━━━━━━━\u001b[0m\u001b[37m\u001b[0m \u001b[1m7s\u001b[0m 4ms/step - accuracy: 0.9979 - loss: 0.0056\n",
      "Training accuracy: 0.9982\n",
      "\u001b[1m1/1\u001b[0m \u001b[32m━━━━━━━━━━━━━━━━━━━━\u001b[0m\u001b[37m\u001b[0m \u001b[1m0s\u001b[0m 38ms/step\n",
      "Predicted: 2, Actual: 2\n",
      "Predicted: 0, Actual: 0\n",
      "Predicted: 4, Actual: 4\n",
      "Predicted: 8, Actual: 8\n",
      "Predicted: 7, Actual: 7\n"
     ]
    },
    {
     "name": "stderr",
     "output_type": "stream",
     "text": [
      "2025-05-06 14:22:25.458285: I tensorflow/core/framework/local_rendezvous.cc:407] Local rendezvous is aborting with status: OUT_OF_RANGE: End of sequence\n"
     ]
    }
   ],
   "source": [
    "test_loss, test_acc = model.evaluate(ds_test)\n",
    "print(f'Test accuracy: {test_acc}')\n",
    "\n",
    "train_loss, train_acc = model.evaluate(ds_train)\n",
    "print(f'Training accuracy: {train_acc:.4f}')\n",
    "\n",
    "for image_batch, label_batch in ds_test.take(1):\n",
    "    predictions = model.predict(image_batch)\n",
    "    for i in range(5):\n",
    "        print(f'Predicted: {np.argmax(predictions[i])}, Actual: {label_batch[i].numpy()}')"
   ]
  },
  {
   "cell_type": "code",
   "execution_count": 9,
   "id": "8139bf87",
   "metadata": {},
   "outputs": [
    {
     "name": "stdout",
     "output_type": "stream",
     "text": [
      "Input image shape: (28, 28, 1)\n",
      "Input value range: 0.0 1.0\n",
      "\u001b[1m1/1\u001b[0m \u001b[32m━━━━━━━━━━━━━━━━━━━━\u001b[0m\u001b[37m\u001b[0m \u001b[1m0s\u001b[0m 36ms/step\n",
      "Prediction probabilities: [[1.0000000e+00 4.0420240e-19 2.4119325e-15 4.1416911e-23 1.5378899e-17\n",
      "  2.1857700e-13 4.2880868e-12 1.5228500e-19 3.2744614e-15 1.7339899e-14]]\n"
     ]
    },
    {
     "data": {
      "image/png": "[encoded data removed]",
      "text/plain": [
       "<Figure size 640x480 with 1 Axes>"
      ]
     },
     "metadata": {},
     "output_type": "display_data"
    }
   ],
   "source": [
    "import matplotlib.pyplot as plt\n",
    "import numpy as np\n",
    "\n",
    "\n",
    "def predict_digit(image_array):\n",
    "    print(\"Input image shape:\", image_array.shape)\n",
    "    print(\"Input value range:\", image_array.min(), image_array.max())\n",
    "    \n",
    "    image_array = image_array.reshape(1, 28, 28, 1)\n",
    "    \n",
    "    image_array = image_array.astype('float32')\n",
    "    \n",
    "    prediction = model.predict(image_array)\n",
    "    \n",
    "    print(\"Prediction probabilities:\", prediction)\n",
    "    \n",
    "    return np.argmax(prediction[0])\n",
    "\n",
    "\n",
    "for image_batch, label_batch in ds_test.take(1):\n",
    "    sample_image = image_batch[1].numpy()\n",
    "    sample_label = label_batch[1].numpy()\n",
    "\n",
    "\n",
    "predicted_digit = predict_digit(sample_image)\n",
    "plt.imshow(sample_image.reshape(28, 28), cmap='gray')\n",
    "plt.title(f\"Predicted: {predicted_digit}, Actual: {sample_label}\")\n",
    "plt.axis('off')\n",
    "plt.show()"
   ]
  },
  {
   "cell_type": "code",
   "execution_count": 10,
   "id": "64e71d39",
   "metadata": {},
   "outputs": [
    {
     "name": "stdout",
     "output_type": "stream",
     "text": [
      "Image 1: Predicted digit: 3, Actual digit: 3\n",
      "Image 2: Predicted digit: 9, Actual digit: 9\n",
      "Sum: 3 + 9 = 12\n"
     ]
    },
    {
     "data": {
      "image/png": "[encoded data removed]",
      "text/plain": [
       "<Figure size 800x400 with 2 Axes>"
      ]
     },
     "metadata": {},
     "output_type": "display_data"
    }
   ],
   "source": [
    "import tensorflow as tf\n",
    "import tensorflow_datasets as tfds\n",
    "import numpy as np\n",
    "import matplotlib.pyplot as plt\n",
    "\n",
    "\n",
    "def preprocess_image(image):\n",
    "    image = image.astype('float32') / 255.0\n",
    "    image = image.reshape(1, 28, 28, 1)\n",
    "    return image\n",
    "\n",
    "\n",
    "def predict_digit(image):\n",
    "    image = preprocess_image(image)\n",
    "    prediction = model.predict(image, verbose=0)\n",
    "    return np.argmax(prediction[0])\n",
    "\n",
    "\n",
    "ds_test = tfds.load('mnist', split='test', as_supervised=True)\n",
    "ds_test = ds_test.shuffle(buffer_size=1000)\n",
    "iterator = iter(ds_test)\n",
    "image1, label1 = next(iterator)\n",
    "image2, label2 = next(iterator)\n",
    "image1_np = image1.numpy()\n",
    "image2_np = image2.numpy()\n",
    "true_label1 = label1.numpy()\n",
    "true_label2 = label2.numpy()\n",
    "\n",
    "predicted_digit1 = predict_digit(image1_np)\n",
    "predicted_digit2 = predict_digit(image2_np)\n",
    "\n",
    "\n",
    "digit_sum = predicted_digit1 + predicted_digit2\n",
    "\n",
    "print(f\"Image 1: Predicted digit: {predicted_digit1}, Actual digit: {true_label1}\")\n",
    "print(f\"Image 2: Predicted digit: {predicted_digit2}, Actual digit: {true_label2}\")\n",
    "print(f\"Sum: {predicted_digit1} + {predicted_digit2} = {digit_sum}\")\n",
    "\n",
    "\n",
    "plt.figure(figsize=(8, 4))\n",
    "\n",
    "plt.subplot(1, 2, 1)\n",
    "plt.imshow(image1_np.reshape(28, 28), cmap='gray')\n",
    "plt.title(f\"Predicted: {predicted_digit1}\\nActual: {true_label1}\")\n",
    "plt.axis('off')\n",
    "\n",
    "plt.subplot(1, 2, 2)\n",
    "plt.imshow(image2_np.reshape(28, 28), cmap='gray')\n",
    "plt.title(f\"Predicted: {predicted_digit2}\\nActual: {true_label2}\")\n",
    "plt.axis('off')\n",
    "plt.suptitle(f\"Sum: {predicted_digit1} + {predicted_digit2} = {digit_sum}\")\n",
    "plt.show()"
   ]
  },
  {
   "cell_type": "code",
   "execution_count": 11,
   "id": "aa6f07a5",
   "metadata": {},
   "outputs": [
    {
     "name": "stdout",
     "output_type": "stream",
     "text": [
      "Image 1: Predicted digit: 4\n",
      "Image 2: Predicted digit: 6\n",
      "Sum: 4 + 6 = 10\n"
     ]
    },
    {
     "data": {
      "image/png": "[encoded data removed]",
      "text/plain": [
       "<Figure size 800x400 with 2 Axes>"
      ]
     },
     "metadata": {},
     "output_type": "display_data"
    }
   ],
   "source": [
    "\n",
    "from PIL import Image\n",
    "\n",
    "image_path1 = 'digit4.png' \n",
    "image_path2 = 'digit2.png' \n",
    "try:\n",
    "    img1 = Image.open(image_path1).convert('L')\n",
    "    img1 = img1.resize((28, 28))\n",
    "    image1_np = np.array(img1)\n",
    "    if image1_np.max() > image1_np.min():\n",
    "        image1_np = 255 - image1_np\n",
    "    \n",
    "    img2 = Image.open(image_path2).convert('L')\n",
    "    img2 = img2.resize((28, 28))\n",
    "    image2_np = np.array(img2)\n",
    "    if image2_np.max() > image2_np.min():\n",
    "        image2_np = 255 - image2_np\n",
    "    \n",
    "\n",
    "    predicted_digit1 = predict_digit(image1_np)\n",
    "    predicted_digit2 = predict_digit(image2_np)\n",
    "    \n",
    "\n",
    "    digit_sum = predicted_digit1 + predicted_digit2\n",
    "    \n",
    "\n",
    "    print(f\"Image 1: Predicted digit: {predicted_digit1}\")\n",
    "    print(f\"Image 2: Predicted digit: {predicted_digit2}\")\n",
    "    print(f\"Sum: {predicted_digit1} + {predicted_digit2} = {digit_sum}\")\n",
    "    \n",
    "\n",
    "    plt.figure(figsize=(8, 4))\n",
    "    plt.subplot(1, 2, 1)\n",
    "    plt.imshow(image1_np.reshape(28, 28), cmap='gray')\n",
    "    plt.title(f\"Predicted: {predicted_digit1}\")\n",
    "    plt.axis('off')\n",
    "    plt.subplot(1, 2, 2)\n",
    "    plt.imshow(image2_np.reshape(28, 28), cmap='gray')\n",
    "    plt.title(f\"Predicted: {predicted_digit2}\")\n",
    "    plt.axis('off')\n",
    "    plt.suptitle(f\"Sum: {predicted_digit1} + {predicted_digit2} = {digit_sum}\")\n",
    "    plt.show()\n",
    "except Exception as e:\n",
    "    print(f\"Error processing images: {e}\")"
   ]
  },
  {
   "cell_type": "code",
   "execution_count": 12,
   "id": "b0620c86",
   "metadata": {},
   "outputs": [
    {
     "name": "stdout",
     "output_type": "stream",
     "text": [
      "Left digit: Predicted: 4\n",
      "Right digit: Predicted: 7\n",
      "Sum: 4 + 7 = 11\n"
     ]
    },
    {
     "data": {
      "image/png": "[encoded data removed]",
      "text/plain": [
       "<Figure size 1000x500 with 3 Axes>"
      ]
     },
     "metadata": {},
     "output_type": "display_data"
    }
   ],
   "source": [
    "import tensorflow as tf\n",
    "import numpy as np\n",
    "import matplotlib.pyplot as plt\n",
    "from PIL import Image\n",
    "\n",
    "\n",
    "def preprocess_image(image):\n",
    "    image = image.astype('float32') / 255.0\n",
    "    image = image.reshape(1, 28, 28, 1)\n",
    "    return image\n",
    "\n",
    "\n",
    "def predict_digit(image):\n",
    "    image = preprocess_image(image)\n",
    "    prediction = model.predict(image, verbose=0)\n",
    "    return np.argmax(prediction[0])\n",
    "\n",
    "\n",
    "\n",
    "\n",
    "image_path = 'two_digits.png'\n",
    "try:\n",
    "\n",
    "    img = Image.open(image_path).convert('L')\n",
    "    img = img.resize((56, 28))\n",
    "    img_array = np.array(img)\n",
    "    \n",
    "    if img_array.max() > img_array.min():\n",
    "        img_array = 255 - img_array\n",
    "    \n",
    "    left_digit = img_array[:, :28]\n",
    "    right_digit = img_array[:, 28:]\n",
    "    \n",
    "    left_digit = left_digit.reshape(28, 28, 1)\n",
    "    right_digit = right_digit.reshape(28, 28, 1)\n",
    "    \n",
    "    predicted_digit1 = predict_digit(left_digit)\n",
    "    predicted_digit2 = predict_digit(right_digit)\n",
    "    \n",
    "    digit_sum = predicted_digit1 + predicted_digit2\n",
    "    \n",
    "    print(f\"Left digit: Predicted: {predicted_digit1}\")\n",
    "    print(f\"Right digit: Predicted: {predicted_digit2}\")\n",
    "    print(f\"Sum: {predicted_digit1} + {predicted_digit2} = {digit_sum}\")\n",
    "    \n",
    "\n",
    "    plt.figure(figsize=(10, 5))\n",
    "\n",
    "    plt.subplot(1, 3, 1)\n",
    "    plt.imshow(img_array.reshape(28, 56), cmap='gray')\n",
    "    plt.title(\"Input Image\")\n",
    "    plt.axis('off')\n",
    "\n",
    "    plt.subplot(1, 3, 2)\n",
    "    plt.imshow(left_digit.reshape(28, 28), cmap='gray')\n",
    "    plt.title(f\"Left: Predicted {predicted_digit1}\")\n",
    "    plt.axis('off')\n",
    "\n",
    "    plt.subplot(1, 3, 3)\n",
    "    plt.imshow(right_digit.reshape(28, 28), cmap='gray')\n",
    "    plt.title(f\"Right: Predicted {predicted_digit2}\")\n",
    "    plt.axis('off')\n",
    "    plt.suptitle(f\"Sum: {predicted_digit1} + {predicted_digit2} = {digit_sum}\")\n",
    "    plt.show()\n",
    "except Exception as e:\n",
    "    print(f\"Error processing image: {e}\")"
   ]
  },
  {
   "cell_type": "code",
   "execution_count": 14,
   "id": "31eb05de",
   "metadata": {},
   "outputs": [],
   "source": [
    "model.save(\"number_recognition_model.keras\")"
   ]
  },
  {
   "cell_type": "code",
   "execution_count": null,
   "id": "5cc52009",
   "metadata": {},
   "outputs": [],
   "source": []
  }
 ],
 "metadata": {
  "kernelspec": {
   "display_name": "venv",
   "language": "python",
   "name": "python3"
  },
  "language_info": {
   "codemirror_mode": {
    "name": "ipython",
    "version": 3
   },
   "file_extension": ".py",
   "mimetype": "text/x-python",
   "name": "python",
   "nbconvert_exporter": "python",
   "pygments_lexer": "ipython3",
   "version": "3.12.4"
  }
 },
 "nbformat": 4,
 "nbformat_minor": 5
}
